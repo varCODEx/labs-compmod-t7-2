{
 "cells": [
  {
   "cell_type": "code",
   "execution_count": 696,
   "metadata": {
    "collapsed": true,
    "ExecuteTime": {
     "end_time": "2023-11-28T17:49:31.296295100Z",
     "start_time": "2023-11-28T17:49:31.195531Z"
    }
   },
   "outputs": [],
   "source": [
    "import pandas as pd\n",
    "import numpy as np\n",
    "\n",
    "import matplotlib.pyplot as plt\n",
    "\n",
    "import statsmodels.api as sm\n",
    "\n",
    "from sklearn.metrics import mean_squared_error"
   ]
  },
  {
   "cell_type": "code",
   "execution_count": 697,
   "outputs": [],
   "source": [
    "def squared_error(y_true, y_pred):\n",
    "    return mean_squared_error(y_true, y_pred) * len(y_true)"
   ],
   "metadata": {
    "collapsed": false,
    "ExecuteTime": {
     "end_time": "2023-11-28T17:49:31.297257500Z",
     "start_time": "2023-11-28T17:49:31.215476500Z"
    }
   }
  },
  {
   "cell_type": "code",
   "execution_count": 698,
   "outputs": [],
   "source": [
    "# task 3"
   ],
   "metadata": {
    "collapsed": false,
    "ExecuteTime": {
     "end_time": "2023-11-28T17:49:31.297257500Z",
     "start_time": "2023-11-28T17:49:31.231433800Z"
    }
   }
  },
  {
   "cell_type": "markdown",
   "source": [
    "### Verify the generator and the fit function"
   ],
   "metadata": {
    "collapsed": false
   }
  },
  {
   "cell_type": "code",
   "execution_count": 699,
   "outputs": [],
   "source": [
    "def shape_generator(x: np.ndarray, order: int) -> np.ndarray:\n",
    "    return 1 / np.power(x, order)\n",
    "\n",
    "\n",
    "def generate_orders_of_x(x: np.ndarray, max_order: int, include_zero_order=True) -> np.ndarray:\n",
    "    if max_order == 0:\n",
    "        include_zero_order = True\n",
    "    return np.array([shape_generator(x, order) for order in range(0 if include_zero_order else 1, max_order + 1)]).T\n",
    "\n",
    "\n",
    "def fit_LR(x: np.ndarray, y: np.ndarray, max_order: int) -> sm.regression.linear_model:\n",
    "    x_orders = generate_orders_of_x(x, max_order, include_zero_order=False)\n",
    "\n",
    "    X = pd.DataFrame(x_orders, columns=[f'1/x^{i + 1}' for i in range(x_orders.shape[1])])\n",
    "    X2 = sm.add_constant(X)\n",
    "    reg = sm.OLS(y, X2).fit()\n",
    "\n",
    "    return reg"
   ],
   "metadata": {
    "collapsed": false,
    "ExecuteTime": {
     "end_time": "2023-11-28T17:49:31.297257500Z",
     "start_time": "2023-11-28T17:49:31.250383100Z"
    }
   }
  },
  {
   "cell_type": "code",
   "execution_count": 700,
   "outputs": [],
   "source": [
    "def generate_dummy_data(order: int, size: int, add_normal_noise=True) -> (pd.DataFrame, np.ndarray):\n",
    "    b = np.random.normal(0, 1, order + 1)\n",
    "    x = np.arange(1, size + 1, 1)\n",
    "\n",
    "    y = generate_orders_of_x(x, order, include_zero_order=True) @ b\n",
    "\n",
    "    if add_normal_noise:\n",
    "        noise = np.random.normal(0, abs(max(y) - min(y)) / 100, size)\n",
    "        y += noise\n",
    "\n",
    "    return pd.DataFrame({'x': x, 'y': y}), b"
   ],
   "metadata": {
    "collapsed": false,
    "ExecuteTime": {
     "end_time": "2023-11-28T17:49:31.298255500Z",
     "start_time": "2023-11-28T17:49:31.264345200Z"
    }
   }
  },
  {
   "cell_type": "code",
   "execution_count": 701,
   "outputs": [],
   "source": [
    "dummy_order = 3"
   ],
   "metadata": {
    "collapsed": false,
    "ExecuteTime": {
     "end_time": "2023-11-28T17:49:31.298255500Z",
     "start_time": "2023-11-28T17:49:31.276313700Z"
    }
   }
  },
  {
   "cell_type": "code",
   "execution_count": 702,
   "outputs": [
    {
     "data": {
      "text/plain": "(array([ 0.57609518, -0.49648912, -1.42313182,  0.47169848]),\n '\\n',\n array([ 0.57609518, -0.49648912, -1.42313182,  0.47169848]))"
     },
     "execution_count": 702,
     "metadata": {},
     "output_type": "execute_result"
    }
   ],
   "source": [
    "dummy_no_noise, true_b = generate_dummy_data(dummy_order, 10, add_normal_noise=False)\n",
    "reg = fit_LR(dummy_no_noise['x'], dummy_no_noise['y'], dummy_order)\n",
    "np.array(reg.params.values), '\\n', true_b"
   ],
   "metadata": {
    "collapsed": false,
    "ExecuteTime": {
     "end_time": "2023-11-28T17:49:31.313215500Z",
     "start_time": "2023-11-28T17:49:31.293268600Z"
    }
   }
  },
  {
   "cell_type": "code",
   "execution_count": 703,
   "outputs": [
    {
     "data": {
      "text/plain": "(array([-0.29618527, -0.26425242,  0.58863131,  1.23850453]),\n '\\n',\n array([-0.30856887, -0.19131251,  0.4434044 ,  1.31424132]))"
     },
     "execution_count": 703,
     "metadata": {},
     "output_type": "execute_result"
    }
   ],
   "source": [
    "dummy_w_noise, true_b = generate_dummy_data(dummy_order, 10, add_normal_noise=True)\n",
    "reg = fit_LR(dummy_w_noise['x'], dummy_w_noise['y'], dummy_order)\n",
    "np.array(reg.params.values), '\\n', true_b"
   ],
   "metadata": {
    "collapsed": false,
    "ExecuteTime": {
     "end_time": "2023-11-28T17:49:31.382070600Z",
     "start_time": "2023-11-28T17:49:31.306233600Z"
    }
   }
  },
  {
   "cell_type": "markdown",
   "source": [
    "### Fit the given data"
   ],
   "metadata": {
    "collapsed": false
   }
  },
  {
   "cell_type": "code",
   "execution_count": 704,
   "outputs": [],
   "source": [
    "x = np.arange(1, 9, 0.5)\n",
    "y = [14, 18.222, 18, 17.216, 16.444, 15.778, 15.219, 14.749, 14.352, 14.014, 13.722, 13.469, 13.248, 13.052, 12.879,\n",
    "     12.724]"
   ],
   "metadata": {
    "collapsed": false,
    "ExecuteTime": {
     "end_time": "2023-11-28T17:49:31.396028100Z",
     "start_time": "2023-11-28T17:49:31.326180600Z"
    }
   }
  },
  {
   "cell_type": "code",
   "execution_count": 705,
   "outputs": [
    {
     "data": {
      "text/plain": "      x       y\n0   1.0  14.000\n1   1.5  18.222\n2   2.0  18.000\n3   2.5  17.216\n4   3.0  16.444\n5   3.5  15.778\n6   4.0  15.219\n7   4.5  14.749\n8   5.0  14.352\n9   5.5  14.014\n10  6.0  13.722\n11  6.5  13.469\n12  7.0  13.248\n13  7.5  13.052\n14  8.0  12.879\n15  8.5  12.724",
      "text/html": "<div>\n<style scoped>\n    .dataframe tbody tr th:only-of-type {\n        vertical-align: middle;\n    }\n\n    .dataframe tbody tr th {\n        vertical-align: top;\n    }\n\n    .dataframe thead th {\n        text-align: right;\n    }\n</style>\n<table border=\"1\" class=\"dataframe\">\n  <thead>\n    <tr style=\"text-align: right;\">\n      <th></th>\n      <th>x</th>\n      <th>y</th>\n    </tr>\n  </thead>\n  <tbody>\n    <tr>\n      <th>0</th>\n      <td>1.0</td>\n      <td>14.000</td>\n    </tr>\n    <tr>\n      <th>1</th>\n      <td>1.5</td>\n      <td>18.222</td>\n    </tr>\n    <tr>\n      <th>2</th>\n      <td>2.0</td>\n      <td>18.000</td>\n    </tr>\n    <tr>\n      <th>3</th>\n      <td>2.5</td>\n      <td>17.216</td>\n    </tr>\n    <tr>\n      <th>4</th>\n      <td>3.0</td>\n      <td>16.444</td>\n    </tr>\n    <tr>\n      <th>5</th>\n      <td>3.5</td>\n      <td>15.778</td>\n    </tr>\n    <tr>\n      <th>6</th>\n      <td>4.0</td>\n      <td>15.219</td>\n    </tr>\n    <tr>\n      <th>7</th>\n      <td>4.5</td>\n      <td>14.749</td>\n    </tr>\n    <tr>\n      <th>8</th>\n      <td>5.0</td>\n      <td>14.352</td>\n    </tr>\n    <tr>\n      <th>9</th>\n      <td>5.5</td>\n      <td>14.014</td>\n    </tr>\n    <tr>\n      <th>10</th>\n      <td>6.0</td>\n      <td>13.722</td>\n    </tr>\n    <tr>\n      <th>11</th>\n      <td>6.5</td>\n      <td>13.469</td>\n    </tr>\n    <tr>\n      <th>12</th>\n      <td>7.0</td>\n      <td>13.248</td>\n    </tr>\n    <tr>\n      <th>13</th>\n      <td>7.5</td>\n      <td>13.052</td>\n    </tr>\n    <tr>\n      <th>14</th>\n      <td>8.0</td>\n      <td>12.879</td>\n    </tr>\n    <tr>\n      <th>15</th>\n      <td>8.5</td>\n      <td>12.724</td>\n    </tr>\n  </tbody>\n</table>\n</div>"
     },
     "execution_count": 705,
     "metadata": {},
     "output_type": "execute_result"
    }
   ],
   "source": [
    "df = pd.DataFrame({'x': x, 'y': y})\n",
    "df"
   ],
   "metadata": {
    "collapsed": false,
    "ExecuteTime": {
     "end_time": "2023-11-28T17:49:31.397030800Z",
     "start_time": "2023-11-28T17:49:31.339144900Z"
    }
   }
  },
  {
   "cell_type": "code",
   "execution_count": 706,
   "outputs": [
    {
     "data": {
      "text/plain": "<Figure size 640x480 with 1 Axes>",
      "image/png": "[encoded data removed]"
     },
     "metadata": {},
     "output_type": "display_data"
    }
   ],
   "source": [
    "plt.plot(df['x'], df['y'], '.');"
   ],
   "metadata": {
    "collapsed": false,
    "ExecuteTime": {
     "end_time": "2023-11-28T17:49:31.491780300Z",
     "start_time": "2023-11-28T17:49:31.356138200Z"
    }
   }
  },
  {
   "cell_type": "code",
   "execution_count": 707,
   "outputs": [
    {
     "name": "stdout",
     "output_type": "stream",
     "text": [
      "n R^2    SSE\n",
      "0 0.000  49.47570800\n",
      "1 0.259  36.67310430\n",
      "2 0.998  0.08739867\n",
      "3 1.000  0.00000103\n",
      "4 1.000  0.00000103\n",
      "5 1.000  0.00000095\n"
     ]
    }
   ],
   "source": [
    "print('n', 'R^2   ', 'SSE')\n",
    "for order in range(6):\n",
    "    reg = fit_LR(df['x'], df['y'], order)\n",
    "    x_orders = generate_orders_of_x(df['x'], order, include_zero_order=False)\n",
    "    print(order,\n",
    "          f\"{reg.rsquared:.3f}\", '',\n",
    "          f\"{squared_error(df['y'], reg.predict(sm.add_constant(x_orders))):.8f}\")"
   ],
   "metadata": {
    "collapsed": false,
    "ExecuteTime": {
     "end_time": "2023-11-28T17:49:31.555604300Z",
     "start_time": "2023-11-28T17:49:31.466803500Z"
    }
   }
  },
  {
   "cell_type": "code",
   "execution_count": 708,
   "outputs": [
    {
     "data": {
      "text/plain": "<Figure size 640x480 with 1 Axes>",
      "image/png": "[encoded data removed]"
     },
     "metadata": {},
     "output_type": "display_data"
    }
   ],
   "source": [
    "plt.plot(df['x'], df['y'], '.')\n",
    "plt.plot(df['x'], reg.predict(sm.add_constant(x_orders)), '--');"
   ],
   "metadata": {
    "collapsed": false,
    "ExecuteTime": {
     "end_time": "2023-11-28T17:49:31.606429300Z",
     "start_time": "2023-11-28T17:49:31.505700500Z"
    }
   }
  },
  {
   "cell_type": "code",
   "execution_count": 709,
   "outputs": [
    {
     "name": "stdout",
     "output_type": "stream",
     "text": [
      "                            OLS Regression Results                            \n",
      "==============================================================================\n",
      "Dep. Variable:                      y   R-squared:                       1.000\n",
      "Model:                            OLS   Adj. R-squared:                  1.000\n",
      "Method:                 Least Squares   F-statistic:                 1.920e+08\n",
      "Date:                Tue, 28 Nov 2023   Prob (F-statistic):           2.40e-46\n",
      "Time:                        19:49:31   Log-Likelihood:                 109.76\n",
      "No. Observations:                  16   AIC:                            -211.5\n",
      "Df Residuals:                      12   BIC:                            -208.4\n",
      "Df Model:                           3                                         \n",
      "Covariance Type:            nonrobust                                         \n",
      "==============================================================================\n",
      "                 coef    std err          t      P>|t|      [0.025      0.975]\n",
      "------------------------------------------------------------------------------\n",
      "const         10.0001      0.000   2.03e+04      0.000       9.999      10.001\n",
      "1/x^1         24.9990      0.004   5900.868      0.000      24.990      25.008\n",
      "1/x^2        -14.9992      0.010  -1568.219      0.000     -15.020     -14.978\n",
      "1/x^3         -6.0000      0.006  -1008.692      0.000      -6.013      -5.987\n",
      "==============================================================================\n",
      "Omnibus:                        0.136   Durbin-Watson:                   2.324\n",
      "Prob(Omnibus):                  0.934   Jarque-Bera (JB):                0.350\n",
      "Skew:                          -0.086   Prob(JB):                        0.839\n",
      "Kurtosis:                       2.296   Cond. No.                         175.\n",
      "==============================================================================\n",
      "\n",
      "Notes:\n",
      "[1] Standard Errors assume that the covariance matrix of the errors is correctly specified.\n"
     ]
    },
    {
     "name": "stderr",
     "output_type": "stream",
     "text": [
      "C:\\Users\\Admin\\AppData\\Local\\Programs\\Python\\Python310\\lib\\site-packages\\scipy\\stats\\_stats_py.py:1477: UserWarning: kurtosistest only valid for n>=20 ... continuing anyway, n=16\n",
      "  warnings.warn(\"kurtosistest only valid for n>=20 ... continuing \"\n"
     ]
    }
   ],
   "source": [
    "model = fit_LR(df['x'], df['y'], 3)\n",
    "print(model.summary())"
   ],
   "metadata": {
    "collapsed": false,
    "ExecuteTime": {
     "end_time": "2023-11-28T17:49:31.699235700Z",
     "start_time": "2023-11-28T17:49:31.609423200Z"
    }
   }
  }
 ],
 "metadata": {
  "kernelspec": {
   "display_name": "Python 3",
   "language": "python",
   "name": "python3"
  },
  "language_info": {
   "codemirror_mode": {
    "name": "ipython",
    "version": 2
   },
   "file_extension": ".py",
   "mimetype": "text/x-python",
   "name": "python",
   "nbconvert_exporter": "python",
   "pygments_lexer": "ipython2",
   "version": "2.7.6"
  }
 },
 "nbformat": 4,
 "nbformat_minor": 0
}
